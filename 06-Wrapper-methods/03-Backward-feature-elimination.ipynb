{
 "cells": [
  {
   "cell_type": "markdown",
   "metadata": {},
   "source": [
    "# Backward feature elimination"
   ]
  },
  {
   "cell_type": "code",
   "execution_count": 1,
   "metadata": {},
   "outputs": [],
   "source": [
    "import pandas as pd\n",
    "from sklearn.datasets import fetch_california_housing\n",
    "from sklearn.ensemble import RandomForestRegressor\n",
    "from sklearn.model_selection import train_test_split"
   ]
  },
  {
   "cell_type": "code",
   "execution_count": 2,
   "metadata": {},
   "outputs": [],
   "source": [
    "# load the California House price data\n",
    "\n",
    "X, y = fetch_california_housing(return_X_y=True, as_frame=True)\n",
    "\n",
    "# Separate data into train and test sets\n",
    "X_train, X_test, y_train, y_test = train_test_split(X, y, random_state=0)"
   ]
  },
  {
   "cell_type": "markdown",
   "metadata": {},
   "source": [
    "## Sklearn"
   ]
  },
  {
   "cell_type": "code",
   "execution_count": 3,
   "metadata": {},
   "outputs": [],
   "source": [
    "from sklearn.feature_selection import SequentialFeatureSelector as SFS"
   ]
  },
  {
   "cell_type": "code",
   "execution_count": 4,
   "metadata": {
    "scrolled": true
   },
   "outputs": [],
   "source": [
    "sfs = SFS(\n",
    "    estimator = RandomForestRegressor(n_estimators=5, random_state=10), \n",
    "    n_features_to_select=\"auto\", # the number of features to retain\n",
    "    tol=0.001, # the maximum increase or decrease in the performance metric\n",
    "    direction='backward', # the direction of the selection procedure\n",
    "    scoring='r2', # the metric to evaluate\n",
    "    cv=3, # the cross-validation fold\n",
    ")\n",
    "\n",
    "sfs = sfs.fit(X_train, y_train)"
   ]
  },
  {
   "cell_type": "code",
   "execution_count": 5,
   "metadata": {},
   "outputs": [
    {
     "data": {
      "text/plain": [
       "array(['MedInc', 'HouseAge', 'AveBedrms', 'AveOccup', 'Latitude',\n",
       "       'Longitude'], dtype=object)"
      ]
     },
     "execution_count": 5,
     "metadata": {},
     "output_type": "execute_result"
    }
   ],
   "source": [
    "sfs.get_feature_names_out()"
   ]
  },
  {
   "cell_type": "code",
   "execution_count": 6,
   "metadata": {},
   "outputs": [],
   "source": [
    "# transform data\n",
    "\n",
    "X_train_t = sfs.transform(X_train)\n",
    "X_test_t = sfs.transform(X_test)"
   ]
  },
  {
   "cell_type": "markdown",
   "metadata": {
    "collapsed": true
   },
   "source": [
    "## MLXtend"
   ]
  },
  {
   "cell_type": "code",
   "execution_count": 7,
   "metadata": {},
   "outputs": [],
   "source": [
    "from mlxtend.feature_selection import SequentialFeatureSelector as SFS"
   ]
  },
  {
   "cell_type": "code",
   "execution_count": 8,
   "metadata": {},
   "outputs": [
    {
     "name": "stderr",
     "output_type": "stream",
     "text": [
      "[Parallel(n_jobs=1)]: Using backend SequentialBackend with 1 concurrent workers.\n",
      "[Parallel(n_jobs=1)]: Done   8 out of   8 | elapsed:    6.8s finished\n",
      "Features: 7/5[Parallel(n_jobs=1)]: Using backend SequentialBackend with 1 concurrent workers.\n",
      "[Parallel(n_jobs=1)]: Done   7 out of   7 | elapsed:    5.7s finished\n",
      "Features: 6/5[Parallel(n_jobs=1)]: Using backend SequentialBackend with 1 concurrent workers.\n",
      "[Parallel(n_jobs=1)]: Done   6 out of   6 | elapsed:    3.9s finished\n",
      "Features: 5/5"
     ]
    }
   ],
   "source": [
    "sfs = SFS(\n",
    "    estimator=RandomForestRegressor(\n",
    "        n_estimators=5, random_state=10),\n",
    "    k_features=5,\n",
    "    forward=False,\n",
    "    verbose=1,\n",
    "    scoring='r2',\n",
    "    cv=3,\n",
    ")\n",
    "\n",
    "sfs = sfs.fit(X_train, y_train)"
   ]
  },
  {
   "cell_type": "code",
   "execution_count": 9,
   "metadata": {},
   "outputs": [
    {
     "data": {
      "text/plain": [
       "('MedInc', 'HouseAge', 'AveOccup', 'Latitude', 'Longitude')"
      ]
     },
     "execution_count": 9,
     "metadata": {},
     "output_type": "execute_result"
    }
   ],
   "source": [
    "# the selected features\n",
    "\n",
    "sfs.k_feature_names_"
   ]
  },
  {
   "cell_type": "code",
   "execution_count": 10,
   "metadata": {},
   "outputs": [
    {
     "data": {
      "text/plain": [
       "array([[   4.1518    ,   22.        ,    4.18059299,   32.58      ,\n",
       "        -117.05      ],\n",
       "       [   5.7796    ,   32.        ,    3.02097902,   33.92      ,\n",
       "        -117.97      ],\n",
       "       [   4.3487    ,   29.        ,    2.91011236,   38.65      ,\n",
       "        -121.84      ],\n",
       "       ...,\n",
       "       [   3.6296    ,   16.        ,    1.88631579,   34.2       ,\n",
       "        -118.61      ],\n",
       "       [   5.5133    ,   37.        ,    3.00847458,   33.9       ,\n",
       "        -118.34      ],\n",
       "       [   4.7639    ,   36.        ,    2.90545455,   37.66      ,\n",
       "        -122.44      ]])"
      ]
     },
     "execution_count": 10,
     "metadata": {},
     "output_type": "execute_result"
    }
   ],
   "source": [
    "# transform data\n",
    "\n",
    "X_train_t = sfs.transform(X_train)\n",
    "X_test_t = sfs.transform(X_test)\n",
    "\n",
    "X_test_t"
   ]
  }
 ],
 "metadata": {
  "kernelspec": {
   "display_name": "fsml",
   "language": "python",
   "name": "fsml"
  },
  "language_info": {
   "codemirror_mode": {
    "name": "ipython",
    "version": 3
   },
   "file_extension": ".py",
   "mimetype": "text/x-python",
   "name": "python",
   "nbconvert_exporter": "python",
   "pygments_lexer": "ipython3",
   "version": "3.10.5"
  },
  "toc": {
   "base_numbering": 1,
   "nav_menu": {},
   "number_sections": true,
   "sideBar": true,
   "skip_h1_title": false,
   "title_cell": "Table of Contents",
   "title_sidebar": "Contents",
   "toc_cell": false,
   "toc_position": {
    "height": "calc(100% - 180px)",
    "left": "10px",
    "top": "150px",
    "width": "223.133px"
   },
   "toc_section_display": "block",
   "toc_window_display": true
  }
 },
 "nbformat": 4,
 "nbformat_minor": 2
}
